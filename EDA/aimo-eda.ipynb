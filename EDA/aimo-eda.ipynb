{
 "cells": [
  {
   "cell_type": "markdown",
   "metadata": {},
   "source": [
    "<p><img alt=\"Colaboratory logo\" width=\"170\" height=\"120\" src=\"https://www.kaggle.com/competitions/73231/images/header\" align=\"left\" hspace=\"15px\" ></p>\n",
    "\n",
    "\n",
    "<h1>AI Mathematical Olympiad </h1>\n",
    "\n",
    "----\n",
    "\n",
    "\n",
    "<div align=\"left\">\n",
    "<font size=3>\n",
    "Exploratory Data Analysis<br>\n",
    "  \n",
    "</font>\n",
    "</div>\n"
   ]
  },
  {
   "cell_type": "code",
   "execution_count": 13,
   "metadata": {
    "execution": {
     "iopub.execute_input": "2024-05-20T17:53:16.709923Z",
     "iopub.status.busy": "2024-05-20T17:53:16.708864Z",
     "iopub.status.idle": "2024-05-20T17:53:16.716045Z",
     "shell.execute_reply": "2024-05-20T17:53:16.715130Z",
     "shell.execute_reply.started": "2024-05-20T17:53:16.709875Z"
    }
   },
   "outputs": [],
   "source": [
    "import os\n",
    "import numpy as np\n",
    "import pandas as pd\n",
    "import seaborn as sns\n",
    "import matplotlib.pyplot as plt\n",
    "import re\n",
    "# from tqdm.notebook import tqdm\n",
    "# tqdm.pandas()\n",
    "\n",
    "\n",
    "from IPython.display import display, Markdown\n",
    "\n",
    "import warnings\n",
    "warnings.filterwarnings(\"ignore\")"
   ]
  },
  {
   "cell_type": "markdown",
   "metadata": {},
   "source": [
    "## Data mining\n",
    "\n"
   ]
  },
  {
   "cell_type": "markdown",
   "metadata": {},
   "source": [
    "\n",
    "For Exploration and Data Analysis (EDA), we have collected and filtered data from several datasets such as AIMO External Dataset, MATH Dataset, GSM8K, Math QSA Dataset and MathQA. "
   ]
  },
  {
   "cell_type": "code",
   "execution_count": 15,
   "metadata": {
    "execution": {
     "iopub.execute_input": "2024-05-20T19:16:59.568705Z",
     "iopub.status.busy": "2024-05-20T19:16:59.567970Z",
     "iopub.status.idle": "2024-05-20T19:17:00.163030Z",
     "shell.execute_reply": "2024-05-20T19:17:00.162227Z",
     "shell.execute_reply.started": "2024-05-20T19:16:59.568674Z"
    }
   },
   "outputs": [],
   "source": [
    "# Read all the Data Frames and work with them\n",
    "\n",
    "# if working in Kaggle replace ../Data with /kaggle/input\n",
    "\n",
    "# -- Math QSA --\n",
    "df_1 = pd.read_csv(\"../Data/math-qsa-dataset/test.csv\")\n",
    "df_2 = pd.read_csv(\"../Data/math-qsa-dataset/train.csv\")\n",
    "df_MQSA = pd.concat([df_1, df_2])\n",
    "\n",
    "# -- GSM8K --                \n",
    "df_3 = pd.read_json(\"../Data/gsm8k-dataset/test.jsonl\",lines=True)\n",
    "df_4 = pd.read_json(\"../Data/gsm8k-dataset/train.jsonl\",lines=True)\n",
    "\n",
    "# -- Dataset for solving math --\n",
    "df_5 = pd.read_csv(\"../Data/dataset-for-solving-math-word-problems/test.csv\")\n",
    "df_6 = pd.read_csv(\"../Data/dataset-for-solving-math-word-problems/train.csv\")\n",
    "\n",
    "# -- Aimo external Dataset --\n",
    "df_7 = pd.read_csv(\"../Data/aimo-external-dataset/external_df.csv\", sep=',')\n",
    "\n",
    "# We keep the format problem / solution / answer"
   ]
  },
  {
   "cell_type": "markdown",
   "metadata": {},
   "source": [
    "Format the dataframes keeping the same format\n",
    "\n",
    "| **Column** | **Description** | \n",
    "| ------------- | ------------- |\n",
    "| problem | Text with the mathematical problem statement |\n",
    "| solution | Text with the mathematical step by step problem solution |\n",
    "| answer | Numerical value, final solution |\n"
   ]
  },
  {
   "cell_type": "code",
   "execution_count": 17,
   "metadata": {
    "execution": {
     "iopub.execute_input": "2024-05-20T19:17:01.444682Z",
     "iopub.status.busy": "2024-05-20T19:17:01.444251Z",
     "iopub.status.idle": "2024-05-20T19:17:01.503089Z",
     "shell.execute_reply": "2024-05-20T19:17:01.502101Z",
     "shell.execute_reply.started": "2024-05-20T19:17:01.444647Z"
    }
   },
   "outputs": [],
   "source": [
    "# We keep the format problem / solution / answer\n",
    "df_1 = df_1[['problem', 'solution', 'answer']]\n",
    "df_2 = df_2[['problem', 'solution', 'answer']]\n",
    "\n",
    "# The format of the answer of --GSM8K-- Dataset is a detail solution of the problem and the answer to the final\n",
    "\n",
    "# Rename columns to keep the format\n",
    "df_3.rename(columns={'question':'problem', 'answer':'solution'}, inplace=True)\n",
    "df_4.rename(columns={'question':'problem', 'answer':'solution'}, inplace=True)\n",
    "\n",
    "# Scrap the answers \n",
    "df_3['answer'] = df_3['solution'].apply(str.split).apply(lambda x: x[-1])\n",
    "df_4['answer'] = df_4['solution'].apply(str.split).apply(lambda x: x[-1])"
   ]
  },
  {
   "cell_type": "code",
   "execution_count": 295,
   "metadata": {
    "execution": {
     "iopub.execute_input": "2024-05-20T19:17:03.032378Z",
     "iopub.status.busy": "2024-05-20T19:17:03.031998Z",
     "iopub.status.idle": "2024-05-20T19:17:03.784933Z",
     "shell.execute_reply": "2024-05-20T19:17:03.784151Z",
     "shell.execute_reply.started": "2024-05-20T19:17:03.032347Z"
    }
   },
   "outputs": [],
   "source": [
    "# Scrap the correct answer of the --Dataset for Math solving--\"\n",
    "# Every answer correspond to an option list as a), b), c), d), e)\n",
    "\n",
    "df_5 = pd.concat([df_5, df_6]) # Both Datasets of Math Solving\n",
    "\n",
    "def obtener_primer_numero(lista):\n",
    "    return [x.split()[0] for x in lista if x.split()]\n",
    "\n",
    "index_answer = {'a':0,'b':1, 'c':2, 'd':3, 'e':4} # Position of the answer in the list of answers\n",
    "\n",
    "df_5[~df_5['options'].str.contains(':')] # Delete some false positives answers (Problems of ratio type)\n",
    "\n",
    "# Filter of the answers\n",
    "df_5['answer'] = df_5['options'].apply(lambda x:x.replace(')', '')\n",
    "                                .replace('min', '')\n",
    "                                .replace('m', '')\n",
    "                                .replace('cm', '')\n",
    "                                .replace('a', '')\n",
    "                                .replace('b', '')\n",
    "                                .replace('c', '')\n",
    "                                .replace('d', '')\n",
    "                                .replace('e', '')\n",
    "                                .replace('hours', '')).str.split(',').apply(obtener_primer_numero)\n",
    "\n",
    "df_5 = df_5[df_5['answer'].apply(len) == 5] # Impute bad leaks\n",
    "\n",
    "# -- Filter index of the correct answer --\n",
    "df_5['correct'] = df_5['correct'].map(index_answer) # mapping of the answer to an index\n",
    "df_5['answer'] = df_5.apply(lambda row: row['answer'][row['correct']], axis=1) # mapping the correct answer from the previous filter\n",
    "df_5.reset_index(drop=True, inplace=True)\n",
    "\n",
    "df_5.rename(columns={'Problem':'problem', 'Rationale':'solution'}, inplace=True)\n",
    "\n",
    "# Solution format with given solution structure\n",
    "df_5['solution'] = df_5['solution'] +'.\\nthe following formula was used for this problem: ' + df_5['annotated_formula']\n",
    "df_5.loc[0, 'problem']\n",
    "\n",
    "# problem / solution / answer\n",
    "df_5 = df_5[['problem', 'solution', 'answer']]"
   ]
  },
  {
   "cell_type": "code",
   "execution_count": 19,
   "metadata": {
    "execution": {
     "iopub.execute_input": "2024-05-20T19:17:05.410449Z",
     "iopub.status.busy": "2024-05-20T19:17:05.410085Z",
     "iopub.status.idle": "2024-05-20T19:17:05.875182Z",
     "shell.execute_reply": "2024-05-20T19:17:05.874378Z",
     "shell.execute_reply.started": "2024-05-20T19:17:05.410419Z"
    }
   },
   "outputs": [],
   "source": [
    "# For the AIMO external Dataset the answer for some problems is the last thing of the solution being boxed (in LaTeX)\n",
    "patron = r'boxed\\{(.*?)\\}' # Use the patron to have the answer of each problem\n",
    "\n",
    "# Problem with boxed solutions\n",
    "df_7['answer'] = df_7.apply(lambda row: re.findall(patron, row['solution']),axis=1) # Apply regular expression\n",
    "df_7_1 = df_7[df_7['answer'].apply(len) != 0]\n",
    "df_7_1['answer'] = df_7_1['answer'].apply(lambda row: row[-1])\n",
    "\n",
    "# Problem with boxed solutions other way\n",
    "df_7_2 = df_7[df_7['answer'].apply(len) == 0]\n",
    "df_7_2['answer'] = df_7_2['solution'].apply(lambda x: x.split()[-1])\n",
    "\n",
    "df_7 = pd.concat([df_7_2, df_7_1]).reset_index(drop=True)[['problem', 'solution', 'answer']]"
   ]
  },
  {
   "cell_type": "markdown",
   "metadata": {},
   "source": [
    "Save Dataframe"
   ]
  },
  {
   "cell_type": "code",
   "execution_count": 21,
   "metadata": {
    "execution": {
     "iopub.execute_input": "2024-05-20T19:17:27.340444Z",
     "iopub.status.busy": "2024-05-20T19:17:27.339752Z",
     "iopub.status.idle": "2024-05-20T19:17:27.360418Z",
     "shell.execute_reply": "2024-05-20T19:17:27.359505Z",
     "shell.execute_reply.started": "2024-05-20T19:17:27.340412Z"
    }
   },
   "outputs": [],
   "source": [
    "df = pd.concat([df_1, df_2, df_3, df_4, df_5, df_7], axis=0).reset_index(drop=True)\n",
    "df.to_csv('../Data/AIMO_data.csv')"
   ]
  },
  {
   "cell_type": "code",
   "execution_count": 310,
   "metadata": {
    "execution": {
     "iopub.execute_input": "2024-05-20T19:36:04.553018Z",
     "iopub.status.busy": "2024-05-20T19:36:04.552629Z",
     "iopub.status.idle": "2024-05-20T19:36:04.559568Z",
     "shell.execute_reply": "2024-05-20T19:36:04.558567Z",
     "shell.execute_reply.started": "2024-05-20T19:36:04.552991Z"
    }
   },
   "outputs": [
    {
     "data": {
      "text/plain": [
       "(56844, 3)"
      ]
     },
     "execution_count": 310,
     "metadata": {},
     "output_type": "execute_result"
    }
   ],
   "source": [
    "df.shape"
   ]
  },
  {
   "cell_type": "code",
   "execution_count": 312,
   "metadata": {
    "execution": {
     "iopub.execute_input": "2024-05-20T19:36:15.108180Z",
     "iopub.status.busy": "2024-05-20T19:36:15.107807Z",
     "iopub.status.idle": "2024-05-20T19:36:15.120187Z",
     "shell.execute_reply": "2024-05-20T19:36:15.119255Z",
     "shell.execute_reply.started": "2024-05-20T19:36:15.108152Z"
    }
   },
   "outputs": [
    {
     "data": {
      "text/html": [
       "<div>\n",
       "<style scoped>\n",
       "    .dataframe tbody tr th:only-of-type {\n",
       "        vertical-align: middle;\n",
       "    }\n",
       "\n",
       "    .dataframe tbody tr th {\n",
       "        vertical-align: top;\n",
       "    }\n",
       "\n",
       "    .dataframe thead th {\n",
       "        text-align: right;\n",
       "    }\n",
       "</style>\n",
       "<table border=\"1\" class=\"dataframe\">\n",
       "  <thead>\n",
       "    <tr style=\"text-align: right;\">\n",
       "      <th></th>\n",
       "      <th>problem</th>\n",
       "      <th>solution</th>\n",
       "      <th>answer</th>\n",
       "    </tr>\n",
       "  </thead>\n",
       "  <tbody>\n",
       "    <tr>\n",
       "      <th>20644</th>\n",
       "      <td>a garrison of 1000 men has provisions for 60 d...</td>\n",
       "      <td>\"1000 - - - - 60 1000 - - - - 45 x - - - - - 2...</td>\n",
       "      <td>1250</td>\n",
       "    </tr>\n",
       "    <tr>\n",
       "      <th>4993</th>\n",
       "      <td>Ten chairs are arranged in a circle. Find the ...</td>\n",
       "      <td>We know that a subset with less than $3$ chair...</td>\n",
       "      <td>581</td>\n",
       "    </tr>\n",
       "    <tr>\n",
       "      <th>56452</th>\n",
       "      <td>When $A$ is doubled, the new value is 10 more ...</td>\n",
       "      <td>We have $2A=A+10\\Rightarrow 2A-A=10\\Rightarrow...</td>\n",
       "      <td>10</td>\n",
       "    </tr>\n",
       "    <tr>\n",
       "      <th>25476</th>\n",
       "      <td>when 1 / 10 percent of 4,000 is subtracted fro...</td>\n",
       "      <td>\"we can break this problem into two parts : 1 ...</td>\n",
       "      <td>396</td>\n",
       "    </tr>\n",
       "    <tr>\n",
       "      <th>366</th>\n",
       "      <td>In my neighborhood, there are six streets. The...</td>\n",
       "      <td>There are 2 sides to each street with 10 house...</td>\n",
       "      <td>120</td>\n",
       "    </tr>\n",
       "  </tbody>\n",
       "</table>\n",
       "</div>"
      ],
      "text/plain": [
       "                                                 problem  \\\n",
       "20644  a garrison of 1000 men has provisions for 60 d...   \n",
       "4993   Ten chairs are arranged in a circle. Find the ...   \n",
       "56452  When $A$ is doubled, the new value is 10 more ...   \n",
       "25476  when 1 / 10 percent of 4,000 is subtracted fro...   \n",
       "366    In my neighborhood, there are six streets. The...   \n",
       "\n",
       "                                                solution answer  \n",
       "20644  \"1000 - - - - 60 1000 - - - - 45 x - - - - - 2...   1250  \n",
       "4993   We know that a subset with less than $3$ chair...    581  \n",
       "56452  We have $2A=A+10\\Rightarrow 2A-A=10\\Rightarrow...     10  \n",
       "25476  \"we can break this problem into two parts : 1 ...    396  \n",
       "366    There are 2 sides to each street with 10 house...    120  "
      ]
     },
     "execution_count": 312,
     "metadata": {},
     "output_type": "execute_result"
    }
   ],
   "source": [
    "df.sample(5)"
   ]
  },
  {
   "cell_type": "code",
   "execution_count": 299,
   "metadata": {
    "execution": {
     "iopub.execute_input": "2024-05-20T19:17:29.792117Z",
     "iopub.status.busy": "2024-05-20T19:17:29.791218Z",
     "iopub.status.idle": "2024-05-20T19:17:29.851812Z",
     "shell.execute_reply": "2024-05-20T19:17:29.850844Z",
     "shell.execute_reply.started": "2024-05-20T19:17:29.792078Z"
    }
   },
   "outputs": [],
   "source": [
    "df.drop(df[df.isnull().any(axis=1)].index, inplace = True)"
   ]
  },
  {
   "cell_type": "markdown",
   "metadata": {},
   "source": [
    "Some analytics for the MQSA\n"
   ]
  },
  {
   "cell_type": "code",
   "execution_count": 302,
   "metadata": {
    "execution": {
     "iopub.execute_input": "2024-05-20T19:25:23.770801Z",
     "iopub.status.busy": "2024-05-20T19:25:23.770406Z",
     "iopub.status.idle": "2024-05-20T19:25:24.098603Z",
     "shell.execute_reply": "2024-05-20T19:25:24.097733Z",
     "shell.execute_reply.started": "2024-05-20T19:25:23.770776Z"
    }
   },
   "outputs": [
    {
     "data": {
      "image/png": "[encoded data removed]",
      "text/plain": [
       "<Figure size 640x480 with 1 Axes>"
      ]
     },
     "metadata": {},
     "output_type": "display_data"
    }
   ],
   "source": [
    "order = ['Level 1', 'Level 2', 'Level 3', 'Level 4', 'Level 5', 'Level ?']\n",
    "sns.histplot(data=df_MQSA.sort_values(by='level'), x='level', hue_order=order)\n",
    "plt.title('Amount of problems by level')\n",
    "plt.xlabel('Level')\n",
    "plt.show()"
   ]
  },
  {
   "cell_type": "code",
   "execution_count": 303,
   "metadata": {
    "execution": {
     "iopub.execute_input": "2024-05-20T19:25:39.774863Z",
     "iopub.status.busy": "2024-05-20T19:25:39.774504Z",
     "iopub.status.idle": "2024-05-20T19:25:39.981171Z",
     "shell.execute_reply": "2024-05-20T19:25:39.979725Z",
     "shell.execute_reply.started": "2024-05-20T19:25:39.774835Z"
    }
   },
   "outputs": [
    {
     "data": {
      "image/png": "[encoded data removed]",
      "text/plain": [
       "<Figure size 800x600 with 1 Axes>"
      ]
     },
     "metadata": {},
     "output_type": "display_data"
    }
   ],
   "source": [
    "type_counts = df_MQSA['type'].value_counts(normalize=True) * 100\n",
    "plt.figure(figsize=(8, 6))\n",
    "plt.pie(type_counts, labels=type_counts.index, autopct='%1.1f%%', startangle=10)\n",
    "plt.axis('equal')  # Equal aspect ratio ensures that pie is drawn as a circle.\n",
    "plt.title('Problems by type')\n",
    "plt.show()"
   ]
  },
  {
   "cell_type": "code",
   "execution_count": 23,
   "metadata": {
    "execution": {
     "iopub.execute_input": "2024-05-20T19:25:55.171423Z",
     "iopub.status.busy": "2024-05-20T19:25:55.170617Z",
     "iopub.status.idle": "2024-05-20T19:26:01.969653Z",
     "shell.execute_reply": "2024-05-20T19:26:01.968443Z",
     "shell.execute_reply.started": "2024-05-20T19:25:55.171388Z"
    }
   },
   "outputs": [
    {
     "ename": "TypeError",
     "evalue": "expected string or bytes-like object",
     "output_type": "error",
     "traceback": [
      "\u001b[1;31m---------------------------------------------------------------------------\u001b[0m",
      "\u001b[1;31mTypeError\u001b[0m                                 Traceback (most recent call last)",
      "Input \u001b[1;32mIn [23]\u001b[0m, in \u001b[0;36m<cell line: 7>\u001b[1;34m()\u001b[0m\n\u001b[0;32m      3\u001b[0m text \u001b[38;5;241m=\u001b[39m df_MQSA\u001b[38;5;241m.\u001b[39mproblem[\u001b[38;5;241m0\u001b[39m]\n\u001b[0;32m      4\u001b[0m \u001b[38;5;66;03m# text = \" \".join(problem for problem in df.problem)\u001b[39;00m\n\u001b[0;32m      5\u001b[0m \n\u001b[0;32m      6\u001b[0m \u001b[38;5;66;03m# Create and generate a word cloud image:\u001b[39;00m\n\u001b[1;32m----> 7\u001b[0m wordcloud \u001b[38;5;241m=\u001b[39m \u001b[43mWordCloud\u001b[49m\u001b[43m(\u001b[49m\u001b[43mmax_font_size\u001b[49m\u001b[38;5;241;43m=\u001b[39;49m\u001b[38;5;241;43m50\u001b[39;49m\u001b[43m,\u001b[49m\u001b[43m \u001b[49m\u001b[43mmax_words\u001b[49m\u001b[38;5;241;43m=\u001b[39;49m\u001b[38;5;241;43m150\u001b[39;49m\u001b[43m,\u001b[49m\u001b[43m \u001b[49m\u001b[43mbackground_color\u001b[49m\u001b[38;5;241;43m=\u001b[39;49m\u001b[38;5;124;43m\"\u001b[39;49m\u001b[38;5;124;43mwhite\u001b[39;49m\u001b[38;5;124;43m\"\u001b[39;49m\u001b[43m)\u001b[49m\u001b[38;5;241;43m.\u001b[39;49m\u001b[43mgenerate\u001b[49m\u001b[43m(\u001b[49m\u001b[43mtext\u001b[49m\u001b[43m)\u001b[49m\n\u001b[0;32m      9\u001b[0m \u001b[38;5;66;03m# Display the generated image:\u001b[39;00m\n\u001b[0;32m     11\u001b[0m plt\u001b[38;5;241m.\u001b[39mimshow(wordcloud, interpolation\u001b[38;5;241m=\u001b[39m\u001b[38;5;124m'\u001b[39m\u001b[38;5;124mbilinear\u001b[39m\u001b[38;5;124m'\u001b[39m)\n",
      "File \u001b[1;32mc:\\Users\\57311\\AppData\\Local\\Programs\\Python\\Python310\\lib\\site-packages\\wordcloud\\wordcloud.py:642\u001b[0m, in \u001b[0;36mWordCloud.generate\u001b[1;34m(self, text)\u001b[0m\n\u001b[0;32m    627\u001b[0m \u001b[38;5;28;01mdef\u001b[39;00m \u001b[38;5;21mgenerate\u001b[39m(\u001b[38;5;28mself\u001b[39m, text):\n\u001b[0;32m    628\u001b[0m     \u001b[38;5;124;03m\"\"\"Generate wordcloud from text.\u001b[39;00m\n\u001b[0;32m    629\u001b[0m \n\u001b[0;32m    630\u001b[0m \u001b[38;5;124;03m    The input \"text\" is expected to be a natural text. If you pass a sorted\u001b[39;00m\n\u001b[1;32m   (...)\u001b[0m\n\u001b[0;32m    640\u001b[0m \u001b[38;5;124;03m    self\u001b[39;00m\n\u001b[0;32m    641\u001b[0m \u001b[38;5;124;03m    \"\"\"\u001b[39;00m\n\u001b[1;32m--> 642\u001b[0m     \u001b[38;5;28;01mreturn\u001b[39;00m \u001b[38;5;28;43mself\u001b[39;49m\u001b[38;5;241;43m.\u001b[39;49m\u001b[43mgenerate_from_text\u001b[49m\u001b[43m(\u001b[49m\u001b[43mtext\u001b[49m\u001b[43m)\u001b[49m\n",
      "File \u001b[1;32mc:\\Users\\57311\\AppData\\Local\\Programs\\Python\\Python310\\lib\\site-packages\\wordcloud\\wordcloud.py:623\u001b[0m, in \u001b[0;36mWordCloud.generate_from_text\u001b[1;34m(self, text)\u001b[0m\n\u001b[0;32m    606\u001b[0m \u001b[38;5;28;01mdef\u001b[39;00m \u001b[38;5;21mgenerate_from_text\u001b[39m(\u001b[38;5;28mself\u001b[39m, text):\n\u001b[0;32m    607\u001b[0m     \u001b[38;5;124;03m\"\"\"Generate wordcloud from text.\u001b[39;00m\n\u001b[0;32m    608\u001b[0m \n\u001b[0;32m    609\u001b[0m \u001b[38;5;124;03m    The input \"text\" is expected to be a natural text. If you pass a sorted\u001b[39;00m\n\u001b[1;32m   (...)\u001b[0m\n\u001b[0;32m    621\u001b[0m \u001b[38;5;124;03m    self\u001b[39;00m\n\u001b[0;32m    622\u001b[0m \u001b[38;5;124;03m    \"\"\"\u001b[39;00m\n\u001b[1;32m--> 623\u001b[0m     words \u001b[38;5;241m=\u001b[39m \u001b[38;5;28;43mself\u001b[39;49m\u001b[38;5;241;43m.\u001b[39;49m\u001b[43mprocess_text\u001b[49m\u001b[43m(\u001b[49m\u001b[43mtext\u001b[49m\u001b[43m)\u001b[49m\n\u001b[0;32m    624\u001b[0m     \u001b[38;5;28mself\u001b[39m\u001b[38;5;241m.\u001b[39mgenerate_from_frequencies(words)\n\u001b[0;32m    625\u001b[0m     \u001b[38;5;28;01mreturn\u001b[39;00m \u001b[38;5;28mself\u001b[39m\n",
      "File \u001b[1;32mc:\\Users\\57311\\AppData\\Local\\Programs\\Python\\Python310\\lib\\site-packages\\wordcloud\\wordcloud.py:585\u001b[0m, in \u001b[0;36mWordCloud.process_text\u001b[1;34m(self, text)\u001b[0m\n\u001b[0;32m    582\u001b[0m pattern \u001b[38;5;241m=\u001b[39m \u001b[38;5;124mr\u001b[39m\u001b[38;5;124m\"\u001b[39m\u001b[38;5;124m\\\u001b[39m\u001b[38;5;124mw[\u001b[39m\u001b[38;5;124m\\\u001b[39m\u001b[38;5;124mw\u001b[39m\u001b[38;5;124m'\u001b[39m\u001b[38;5;124m]*\u001b[39m\u001b[38;5;124m\"\u001b[39m \u001b[38;5;28;01mif\u001b[39;00m \u001b[38;5;28mself\u001b[39m\u001b[38;5;241m.\u001b[39mmin_word_length \u001b[38;5;241m<\u001b[39m\u001b[38;5;241m=\u001b[39m \u001b[38;5;241m1\u001b[39m \u001b[38;5;28;01melse\u001b[39;00m \u001b[38;5;124mr\u001b[39m\u001b[38;5;124m\"\u001b[39m\u001b[38;5;124m\\\u001b[39m\u001b[38;5;124mw[\u001b[39m\u001b[38;5;124m\\\u001b[39m\u001b[38;5;124mw\u001b[39m\u001b[38;5;124m'\u001b[39m\u001b[38;5;124m]+\u001b[39m\u001b[38;5;124m\"\u001b[39m\n\u001b[0;32m    583\u001b[0m regexp \u001b[38;5;241m=\u001b[39m \u001b[38;5;28mself\u001b[39m\u001b[38;5;241m.\u001b[39mregexp \u001b[38;5;28;01mif\u001b[39;00m \u001b[38;5;28mself\u001b[39m\u001b[38;5;241m.\u001b[39mregexp \u001b[38;5;129;01mis\u001b[39;00m \u001b[38;5;129;01mnot\u001b[39;00m \u001b[38;5;28;01mNone\u001b[39;00m \u001b[38;5;28;01melse\u001b[39;00m pattern\n\u001b[1;32m--> 585\u001b[0m words \u001b[38;5;241m=\u001b[39m \u001b[43mre\u001b[49m\u001b[38;5;241;43m.\u001b[39;49m\u001b[43mfindall\u001b[49m\u001b[43m(\u001b[49m\u001b[43mregexp\u001b[49m\u001b[43m,\u001b[49m\u001b[43m \u001b[49m\u001b[43mtext\u001b[49m\u001b[43m,\u001b[49m\u001b[43m \u001b[49m\u001b[43mflags\u001b[49m\u001b[43m)\u001b[49m\n\u001b[0;32m    586\u001b[0m \u001b[38;5;66;03m# remove 's\u001b[39;00m\n\u001b[0;32m    587\u001b[0m words \u001b[38;5;241m=\u001b[39m [word[:\u001b[38;5;241m-\u001b[39m\u001b[38;5;241m2\u001b[39m] \u001b[38;5;28;01mif\u001b[39;00m word\u001b[38;5;241m.\u001b[39mlower()\u001b[38;5;241m.\u001b[39mendswith(\u001b[38;5;124m\"\u001b[39m\u001b[38;5;124m'\u001b[39m\u001b[38;5;124ms\u001b[39m\u001b[38;5;124m\"\u001b[39m) \u001b[38;5;28;01melse\u001b[39;00m word\n\u001b[0;32m    588\u001b[0m          \u001b[38;5;28;01mfor\u001b[39;00m word \u001b[38;5;129;01min\u001b[39;00m words]\n",
      "File \u001b[1;32mc:\\Users\\57311\\AppData\\Local\\Programs\\Python\\Python310\\lib\\re.py:240\u001b[0m, in \u001b[0;36mfindall\u001b[1;34m(pattern, string, flags)\u001b[0m\n\u001b[0;32m    232\u001b[0m \u001b[38;5;28;01mdef\u001b[39;00m \u001b[38;5;21mfindall\u001b[39m(pattern, string, flags\u001b[38;5;241m=\u001b[39m\u001b[38;5;241m0\u001b[39m):\n\u001b[0;32m    233\u001b[0m     \u001b[38;5;124;03m\"\"\"Return a list of all non-overlapping matches in the string.\u001b[39;00m\n\u001b[0;32m    234\u001b[0m \n\u001b[0;32m    235\u001b[0m \u001b[38;5;124;03m    If one or more capturing groups are present in the pattern, return\u001b[39;00m\n\u001b[1;32m   (...)\u001b[0m\n\u001b[0;32m    238\u001b[0m \n\u001b[0;32m    239\u001b[0m \u001b[38;5;124;03m    Empty matches are included in the result.\"\"\"\u001b[39;00m\n\u001b[1;32m--> 240\u001b[0m     \u001b[38;5;28;01mreturn\u001b[39;00m \u001b[43m_compile\u001b[49m\u001b[43m(\u001b[49m\u001b[43mpattern\u001b[49m\u001b[43m,\u001b[49m\u001b[43m \u001b[49m\u001b[43mflags\u001b[49m\u001b[43m)\u001b[49m\u001b[38;5;241;43m.\u001b[39;49m\u001b[43mfindall\u001b[49m\u001b[43m(\u001b[49m\u001b[43mstring\u001b[49m\u001b[43m)\u001b[49m\n",
      "\u001b[1;31mTypeError\u001b[0m: expected string or bytes-like object"
     ]
    }
   ],
   "source": []
  },
  {
   "cell_type": "markdown",
   "metadata": {},
   "source": [
    "Configuration"
   ]
  },
  {
   "cell_type": "code",
   "execution_count": 12,
   "metadata": {
    "execution": {
     "iopub.execute_input": "2024-05-15T15:19:02.715052Z",
     "iopub.status.busy": "2024-05-15T15:19:02.714551Z",
     "iopub.status.idle": "2024-05-15T15:19:02.723001Z",
     "shell.execute_reply": "2024-05-15T15:19:02.720958Z",
     "shell.execute_reply.started": "2024-05-15T15:19:02.715009Z"
    }
   },
   "outputs": [],
   "source": [
    "from app.utils.conf import CFG"
   ]
  },
  {
   "cell_type": "markdown",
   "metadata": {},
   "source": [
    "Filter, the problems for this competition have answers with non negative integers"
   ]
  },
  {
   "cell_type": "code",
   "execution_count": 309,
   "metadata": {
    "execution": {
     "iopub.execute_input": "2024-05-20T19:28:44.101281Z",
     "iopub.status.busy": "2024-05-20T19:28:44.100398Z",
     "iopub.status.idle": "2024-05-20T19:28:44.154543Z",
     "shell.execute_reply": "2024-05-20T19:28:44.153644Z",
     "shell.execute_reply.started": "2024-05-20T19:28:44.101248Z"
    }
   },
   "outputs": [
    {
     "data": {
      "text/html": [
       "<div>\n",
       "<style scoped>\n",
       "    .dataframe tbody tr th:only-of-type {\n",
       "        vertical-align: middle;\n",
       "    }\n",
       "\n",
       "    .dataframe tbody tr th {\n",
       "        vertical-align: top;\n",
       "    }\n",
       "\n",
       "    .dataframe thead th {\n",
       "        text-align: right;\n",
       "    }\n",
       "</style>\n",
       "<table border=\"1\" class=\"dataframe\">\n",
       "  <thead>\n",
       "    <tr style=\"text-align: right;\">\n",
       "      <th></th>\n",
       "      <th>problem</th>\n",
       "      <th>solution</th>\n",
       "      <th>answer</th>\n",
       "    </tr>\n",
       "  </thead>\n",
       "  <tbody>\n",
       "    <tr>\n",
       "      <th>24562</th>\n",
       "      <td>a 14 cm long wire is to be cut into two pieces...</td>\n",
       "      <td>\"1 : 2 / 5 = 5 : 2 2 / 7 * 14 = 4 answer : e\"....</td>\n",
       "      <td>4</td>\n",
       "    </tr>\n",
       "    <tr>\n",
       "      <th>43361</th>\n",
       "      <td>Marissa is serving her kids lunch. Each kid ge...</td>\n",
       "      <td>First figure out how many total calories come ...</td>\n",
       "      <td>5</td>\n",
       "    </tr>\n",
       "  </tbody>\n",
       "</table>\n",
       "</div>"
      ],
      "text/plain": [
       "                                                 problem  \\\n",
       "24562  a 14 cm long wire is to be cut into two pieces...   \n",
       "43361  Marissa is serving her kids lunch. Each kid ge...   \n",
       "\n",
       "                                                solution answer  \n",
       "24562  \"1 : 2 / 5 = 5 : 2 2 / 7 * 14 = 4 answer : e\"....      4  \n",
       "43361  First figure out how many total calories come ...      5  "
      ]
     },
     "execution_count": 309,
     "metadata": {},
     "output_type": "execute_result"
    }
   ],
   "source": [
    "def is_integer(text):\n",
    "    try:\n",
    "        if int(text)>= 0:\n",
    "            return True\n",
    "        else:\n",
    "            return False\n",
    "    except ValueError:\n",
    "        return False\n",
    "    \n",
    "df[\"is_integer\"] = df.answer.map(is_integer)\n",
    "df = df[df['is_integer']].reset_index(drop=True)\n",
    "df.drop(columns=['is_integer'], inplace=True)\n",
    "df.sample(2)"
   ]
  }
 ],
 "metadata": {
  "kaggle": {
   "accelerator": "gpu",
   "dataSources": [
    {
     "databundleVersionId": 8365361,
     "sourceId": 73231,
     "sourceType": "competition"
    },
    {
     "datasetId": 1209220,
     "sourceId": 2020255,
     "sourceType": "datasetVersion"
    },
    {
     "datasetId": 2660570,
     "sourceId": 4558410,
     "sourceType": "datasetVersion"
    },
    {
     "datasetId": 2918309,
     "sourceId": 5029473,
     "sourceType": "datasetVersion"
    },
    {
     "datasetId": 4717118,
     "sourceId": 8008788,
     "sourceType": "datasetVersion"
    },
    {
     "datasetId": 4717827,
     "sourceId": 8009768,
     "sourceType": "datasetVersion"
    },
    {
     "datasetId": 4766079,
     "sourceId": 8076106,
     "sourceType": "datasetVersion"
    },
    {
     "modelInstanceId": 22009,
     "sourceId": 27825,
     "sourceType": "modelInstanceVersion"
    }
   ],
   "isGpuEnabled": true,
   "isInternetEnabled": false,
   "language": "python",
   "sourceType": "notebook"
  },
  "kernelspec": {
   "display_name": "Python 3 (ipykernel)",
   "language": "python",
   "name": "python3"
  },
  "language_info": {
   "codemirror_mode": {
    "name": "ipython",
    "version": 3
   },
   "file_extension": ".py",
   "mimetype": "text/x-python",
   "name": "python",
   "nbconvert_exporter": "python",
   "pygments_lexer": "ipython3",
   "version": "3.11.9"
  }
 },
 "nbformat": 4,
 "nbformat_minor": 4
}
